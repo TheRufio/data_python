{
 "cells": [
  {
   "cell_type": "markdown",
   "id": "505dd57e",
   "metadata": {},
   "source": [
    "# Йорданія\n",
    "* ***Йорданія** ( араб.<font style = \"color:#e3402d;font-style:ariel\">الأردن‎‎,</font>  Аль-Урдун), офіційна назва — Йорданське Хашімітське Королівство (араб.<font style = \"color:#e3402d;font-style:ariel\"> المملكة الأردنية الهاشمية</font>‎‎) — арабська держава на [Близькому Сході](https://uk.wikipedia.org/wiki/%D0%91%D0%BB%D0%B8%D0%B7%D1%8C%D0%BA%D0%B8%D0%B9_%D0%A1%D1%85%D1%96%D0%B4)*\n",
    "\n",
    "## Прапор країни\n",
    " <svg height=\"300\" width=\"500\">\n",
    "  <rect x=\"0\" y=\"0\" width=\"500\" height=\"100\" fill=black stroke=\"black\" />\n",
    "    <rect x=\"0\" y=\"100\" width=\"500\" height=\"100\" fill=white stroke=\"white\" />\n",
    "    <rect x=\"0\" y=\"200\" width=\"500\" height=\"100\" fill=green stroke=\"green\" />\n",
    "    <polygon points=\"0,0 250,150 0,300\"  fill=\"red\" stroke=\"red\"/>\n",
    "    <circle r=\"10\" cx=\"70\" cy=\"150\" fill=white />\n",
    "    <polygon\n",
    "    points=\"70,130 60,150 82,150\"\n",
    "    fill=\"white\"/>\n",
    "    <polygon\n",
    "    points=\"80,168 60,150 80,150\"\n",
    "    fill=\"white\"/>\n",
    "<polygon\n",
    "    points=\"61,168 60,150 80,150\"\n",
    "    fill=\"white\"/>\n",
    "    <polygon\n",
    "    points=\"90,138 60,145 80,150\"\n",
    "    fill=\"white\"/>\n",
    "    <polygon\n",
    "    points=\"90,158 70,135 60,155\"\n",
    "    fill=\"white\"/>\n",
    "    <polygon\n",
    "    points=\"50,138 60,150 80,145\"\n",
    "    fill=\"white\"/>\n",
    "    <polygon\n",
    "    points=\"50,158 70,130 80,155\"\n",
    "    fill=\"white\"/>\n",
    "</svg>\n",
    "\n",
    "\n",
    "## Краєвиди\n",
    "![Краєвид1](Iordan.png \"Iordan\")\n",
    "![Краєвид2](Jordan-2.jpg \"Iordan\")\n",
    "\n",
    "## Столиця\n",
    "* ***Амман** – столиця Йорданії. Населення 1 млн чол. У давнину називався Раббат-Аммон, в елліністично-римську епоху – Філадельфія. У 7-9 ст. входив до складу арабського Халіфату. З <font style =\"border:1px solid;\"> 1516 </font> до кінця 1-ої світової війни – у складі Османської імперії.*\n",
    "![url_photo_capital](https://traveltimes.ru/wp-content/uploads/2022/03/amman-770x460.jpg \"url_photo_capital\")\n",
    "## Свята\n",
    "|Дата проведення    | Свято |\n",
    "|:---------|:----:|\n",
    "|1 січня   |християнський Новий Рік|\n",
    "|15 січня  |День Дерева|\n",
    "|30 січня  |День народження короля Абдулли ІІ|\n",
    "|22 березня |День Ліги арабських країн|\n",
    "|25 березня  |День Незалежності|\n",
    "|1 травня |День праці|\n",
    "|25 травня  |День незалежності|\n"
   ]
  },
  {
   "cell_type": "code",
   "execution_count": 6,
   "id": "8294ca8e",
   "metadata": {},
   "outputs": [],
   "source": [
    "def is_simple_numbers_(number1,number2):\n",
    "    try:\n",
    "        number1 = int(number1)\n",
    "        number2 = int(number2)\n",
    "    except ValueError:\n",
    "        return \"Не є числом!\"\n",
    "    \n",
    "    list_of_simple_numbers = [];my_rull = False\n",
    "    for number in range(number1,number2):\n",
    "        x=10;my_rull=True\n",
    "        if number <= 10:\n",
    "            x=number\n",
    "        for i in range(2,x):    \n",
    "            if number/i==int(number/i):\n",
    "                my_rull = False\n",
    "        if my_rull and number>=1:\n",
    "            list_of_simple_numbers.append(number)\n",
    "    return list_of_simple_numbers"
   ]
  },
  {
   "cell_type": "code",
   "execution_count": 7,
   "id": "6df0337e",
   "metadata": {},
   "outputs": [
    {
     "data": {
      "text/plain": [
       "[3, 5, 7, 11, 13]"
      ]
     },
     "execution_count": 7,
     "metadata": {},
     "output_type": "execute_result"
    }
   ],
   "source": [
    "is_simple_numbers_(3,15)"
   ]
  },
  {
   "cell_type": "code",
   "execution_count": 144,
   "id": "66905a33",
   "metadata": {},
   "outputs": [
    {
     "data": {
      "text/plain": [
       "'Не є числом!'"
      ]
     },
     "execution_count": 144,
     "metadata": {},
     "output_type": "execute_result"
    }
   ],
   "source": [
    "is_simple_numbers_(\"a\",23)"
   ]
  },
  {
   "cell_type": "code",
   "execution_count": 146,
   "id": "fbd5a5c2",
   "metadata": {},
   "outputs": [
    {
     "data": {
      "text/plain": [
       "[23, 29, 31, 37, 41, 43, 47, 53, 59, 61, 67, 71, 73, 79, 83]"
      ]
     },
     "execution_count": 146,
     "metadata": {},
     "output_type": "execute_result"
    }
   ],
   "source": [
    "is_simple_numbers_(20,89)"
   ]
  },
  {
   "cell_type": "code",
   "execution_count": 1,
   "id": "5a8d400d",
   "metadata": {
    "scrolled": true
   },
   "outputs": [
    {
     "data": {
      "text/html": [
       "<svg height=\"300\" width=\"500\">\n",
       "  <rect x=\"0\" y=\"0\" width=\"500\" height=\"100\" fill=black stroke=\"black\" />\n",
       "    <rect x=\"0\" y=\"100\" width=\"500\" height=\"100\" fill=white stroke=\"white\" />\n",
       "    <rect x=\"0\" y=\"200\" width=\"500\" height=\"100\" fill=green stroke=\"green\" />\n",
       "    <polygon points=\"0,0 250,150 0,300\"  fill=\"red\" stroke=\"red\"/>\n",
       "    <circle r=\"10\" cx=\"70\" cy=\"150\" fill=white />\n",
       "    <polygon\n",
       "    points=\"70,130 60,150 82,150\"\n",
       "    fill=\"white\"/>\n",
       "    <polygon\n",
       "    points=\"80,168 60,150 80,150\"\n",
       "    fill=\"white\"/>\n",
       "<polygon\n",
       "    points=\"61,168 60,150 80,150\"\n",
       "    fill=\"white\"/>\n",
       "    <polygon\n",
       "    points=\"90,138 60,145 80,150\"\n",
       "    fill=\"white\"/>\n",
       "    <polygon\n",
       "    points=\"90,158 70,135 60,155\"\n",
       "    fill=\"white\"/>\n",
       "    <polygon\n",
       "    points=\"50,138 60,150 80,145\"\n",
       "    fill=\"white\"/>\n",
       "    <polygon\n",
       "    points=\"50,158 70,130 80,155\"\n",
       "    fill=\"white\"/>\n",
       "</svg>\n"
      ],
      "text/plain": [
       "<IPython.core.display.HTML object>"
      ]
     },
     "metadata": {},
     "output_type": "display_data"
    }
   ],
   "source": [
    "%%HTML\n",
    "<svg height=\"300\" width=\"500\">\n",
    "  <rect x=\"0\" y=\"0\" width=\"500\" height=\"100\" fill=black stroke=\"black\" />\n",
    "    <rect x=\"0\" y=\"100\" width=\"500\" height=\"100\" fill=white stroke=\"white\" />\n",
    "    <rect x=\"0\" y=\"200\" width=\"500\" height=\"100\" fill=green stroke=\"green\" />\n",
    "    <polygon points=\"0,0 250,150 0,300\"  fill=\"red\" stroke=\"red\"/>\n",
    "    <circle r=\"10\" cx=\"70\" cy=\"150\" fill=white />\n",
    "    <polygon\n",
    "    points=\"70,130 60,150 82,150\"\n",
    "    fill=\"white\"/>\n",
    "    <polygon\n",
    "    points=\"80,168 60,150 80,150\"\n",
    "    fill=\"white\"/>\n",
    "<polygon\n",
    "    points=\"61,168 60,150 80,150\"\n",
    "    fill=\"white\"/>\n",
    "    <polygon\n",
    "    points=\"90,138 60,145 80,150\"\n",
    "    fill=\"white\"/>\n",
    "    <polygon\n",
    "    points=\"90,158 70,135 60,155\"\n",
    "    fill=\"white\"/>\n",
    "    <polygon\n",
    "    points=\"50,138 60,150 80,145\"\n",
    "    fill=\"white\"/>\n",
    "    <polygon\n",
    "    points=\"50,158 70,130 80,155\"\n",
    "    fill=\"white\"/>\n",
    "</svg>\n"
   ]
  },
  {
   "cell_type": "code",
   "execution_count": 4,
   "id": "a9d4cd24",
   "metadata": {},
   "outputs": [
    {
     "name": "stdout",
     "output_type": "stream",
     "text": [
      "6\n"
     ]
    }
   ],
   "source": [
    "N = ord(\"A\") % 10 + 1\n",
    "print(N)"
   ]
  },
  {
   "cell_type": "code",
   "execution_count": null,
   "id": "80877f1f",
   "metadata": {},
   "outputs": [],
   "source": []
  }
 ],
 "metadata": {
  "kernelspec": {
   "display_name": "Python 3 (ipykernel)",
   "language": "python",
   "name": "python3"
  },
  "language_info": {
   "codemirror_mode": {
    "name": "ipython",
    "version": 3
   },
   "file_extension": ".py",
   "mimetype": "text/x-python",
   "name": "python",
   "nbconvert_exporter": "python",
   "pygments_lexer": "ipython3",
   "version": "3.11.3"
  }
 },
 "nbformat": 4,
 "nbformat_minor": 5
}
